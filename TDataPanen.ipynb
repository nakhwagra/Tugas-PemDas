{
 "cells": [
  {
   "cell_type": "code",
   "execution_count": 6,
   "metadata": {},
   "outputs": [],
   "source": [
    "data_panen = {\n",
    "    'lokasi1': {\n",
    "        'nama_lokasi': 'Kebun A',\n",
    "        'hasil_panen': {\n",
    "            'padi': 1200,\n",
    "            'jagung': 800,\n",
    "            'kedelai': 500\n",
    "        }\n",
    "    },\n",
    "    'lokasi2': {\n",
    "        'nama_lokasi': 'Kebun B',\n",
    "        'hasil_panen': {\n",
    "            'padi': 1500,\n",
    "            'jagung': 900,\n",
    "            'kedelai': 450\n",
    "        }\n",
    "    },\n",
    "    'lokasi3': {\n",
    "        'nama_lokasi': 'Kebun C',\n",
    "        'hasil_panen': {\n",
    "            'padi': 1100,\n",
    "            'jagung': 750,\n",
    "            'kedelai': 600\n",
    "        }\n",
    "    },\n",
    "    'lokasi4': {\n",
    "        'nama_lokasi': 'Kebun D',\n",
    "        'hasil_panen': {\n",
    "            'padi': 1300,\n",
    "            'jagung': 850,\n",
    "            'kedelai': 550\n",
    "        }\n",
    "    },\n",
    "     'lokasi5': {\n",
    "        'nama_lokasi': 'Kebun E',\n",
    "        'hasil_panen': {\n",
    "            'padi': 1400,\n",
    "            'jagung': 950,\n",
    "            'kedelai': 480\n",
    "        }\n",
    "    }\n",
    "}"
   ]
  },
  {
   "cell_type": "code",
   "execution_count": 7,
   "metadata": {},
   "outputs": [
    {
     "name": "stdout",
     "output_type": "stream",
     "text": [
      "lokasi1: Kebun A - {'padi': 1200, 'jagung': 800, 'kedelai': 500}\n",
      "lokasi2: Kebun B - {'padi': 1500, 'jagung': 900, 'kedelai': 450}\n",
      "lokasi3: Kebun C - {'padi': 1100, 'jagung': 750, 'kedelai': 600}\n",
      "lokasi4: Kebun D - {'padi': 1300, 'jagung': 850, 'kedelai': 550}\n",
      "lokasi5: Kebun E - {'padi': 1400, 'jagung': 950, 'kedelai': 480}\n"
     ]
    }
   ],
   "source": [
    "# 1. Tampilkan seluruh data dari data_panen termasuk nama lokasi dan hasil panen masing-masing.\n",
    "for lokasi, data in data_panen.items():\n",
    "    print(f\"{lokasi}: {data['nama_lokasi']} - {data['hasil_panen']}\")"
   ]
  },
  {
   "cell_type": "code",
   "execution_count": 8,
   "metadata": {},
   "outputs": [
    {
     "name": "stdout",
     "output_type": "stream",
     "text": [
      "Jumlah hasil panen jagung di lokasi2: 900\n"
     ]
    }
   ],
   "source": [
    "# 2. Tampilkan jumlah hasil panen jagung dari lokasi2.\n",
    "jumlah_jagung_lokasi2 = data_panen['lokasi2']['hasil_panen']['jagung']\n",
    "print(f\"Jumlah hasil panen jagung di lokasi2: {jumlah_jagung_lokasi2}\")"
   ]
  },
  {
   "cell_type": "code",
   "execution_count": 9,
   "metadata": {},
   "outputs": [
    {
     "name": "stdout",
     "output_type": "stream",
     "text": [
      "Nama lokasi dari lokasi3: Kebun C\n"
     ]
    }
   ],
   "source": [
    "# 3. Tampilkan nama lokasi dari lokasi3.\n",
    "nama_lokasi3 = data_panen['lokasi3']['nama_lokasi']\n",
    "print(f\"Nama lokasi dari lokasi3: {nama_lokasi3}\")"
   ]
  },
  {
   "cell_type": "code",
   "execution_count": 10,
   "metadata": {},
   "outputs": [
    {
     "name": "stdout",
     "output_type": "stream",
     "text": [
      "Jumlah hasil panen padi per lokasi: {'lokasi1': 1200, 'lokasi2': 1500, 'lokasi3': 1100, 'lokasi4': 1300, 'lokasi5': 1400}\n",
      "Jumlah hasil panen kedelai per lokasi: {'lokasi1': 500, 'lokasi2': 450, 'lokasi3': 600, 'lokasi4': 550, 'lokasi5': 480}\n"
     ]
    }
   ],
   "source": [
    "# 4. Masukkan Jumlah Hasil Panen Padi dan Kedelai Setiap Lokasi ke Dalam Variabel yang Berbeda\n",
    "# 5. Buat variabel terpisah untuk menyimpan jumlah hasil panen padi dan kedelai dari setiap lokasi.\n",
    "padi_per_lokasi = {}\n",
    "kedelai_per_lokasi = {}\n",
    "\n",
    "for lokasi, data in data_panen.items():\n",
    "    padi_per_lokasi[lokasi] = data['hasil_panen']['padi']\n",
    "    kedelai_per_lokasi[lokasi] = data['hasil_panen']['kedelai']\n",
    "\n",
    "print(\"Jumlah hasil panen padi per lokasi:\", padi_per_lokasi)\n",
    "print(\"Jumlah hasil panen kedelai per lokasi:\", kedelai_per_lokasi)"
   ]
  },
  {
   "cell_type": "code",
   "execution_count": 11,
   "metadata": {},
   "outputs": [
    {
     "name": "stdout",
     "output_type": "stream",
     "text": [
      "Kebun A dalam kondisi baik.\n",
      "Kebun B memerlukan perhatian khusus.\n",
      "Kebun C dalam kondisi baik.\n",
      "Kebun D memerlukan perhatian khusus.\n",
      "Kebun E memerlukan perhatian khusus.\n"
     ]
    }
   ],
   "source": [
    "# 6. Buat percabangan untuk mengevaluasi kondisi lokasi berdasarkan hasil panen.\n",
    "for lokasi, data in data_panen.items():\n",
    "    padi = data['hasil_panen']['padi']\n",
    "    jagung = data['hasil_panen']['jagung']\n",
    "\n",
    "    if padi > 1300 or jagung > 800:\n",
    "        print(f\"{data['nama_lokasi']} memerlukan perhatian khusus.\")\n",
    "    else:\n",
    "        print(f\"{data['nama_lokasi']} dalam kondisi baik.\")"
   ]
  }
 ],
 "metadata": {
  "kernelspec": {
   "display_name": "Python 3",
   "language": "python",
   "name": "python3"
  },
  "language_info": {
   "codemirror_mode": {
    "name": "ipython",
    "version": 3
   },
   "file_extension": ".py",
   "mimetype": "text/x-python",
   "name": "python",
   "nbconvert_exporter": "python",
   "pygments_lexer": "ipython3",
   "version": "3.12.7"
  }
 },
 "nbformat": 4,
 "nbformat_minor": 2
}
